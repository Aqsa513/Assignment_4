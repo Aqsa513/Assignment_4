{
  "nbformat": 4,
  "nbformat_minor": 0,
  "metadata": {
    "colab": {
      "provenance": [],
      "authorship_tag": "ABX9TyMJdW+my+aF1Y5ndXnsg62p",
      "include_colab_link": true
    },
    "kernelspec": {
      "name": "python3",
      "display_name": "Python 3"
    },
    "language_info": {
      "name": "python"
    }
  },
  "cells": [
    {
      "cell_type": "markdown",
      "metadata": {
        "id": "view-in-github",
        "colab_type": "text"
      },
      "source": [
        "<a href=\"https://colab.research.google.com/github/Aqsa513/Assignment_4/blob/main/00_intro_Python.ipynb\" target=\"_parent\"><img src=\"https://colab.research.google.com/assets/colab-badge.svg\" alt=\"Open In Colab\"/></a>"
      ]
    },
    {
      "cell_type": "code",
      "execution_count": null,
      "metadata": {
        "colab": {
          "base_uri": "https://localhost:8080/"
        },
        "collapsed": true,
        "id": "sy7jVEhEd52M",
        "outputId": "b755a814-6cda-44f1-9c46-b4064d60ee4b"
      },
      "outputs": [
        {
          "output_type": "stream",
          "name": "stdout",
          "text": [
            "01_add_two_numbers\n",
            "This application for add two numbers\n",
            "Enter first number: 5\n",
            "Enter second number: 8\n",
            "The total sum of 5and 8 is 13\n"
          ]
        }
      ],
      "source": [
        "print(\"01_add_two_numbers\")\n",
        "\n",
        "def add():\n",
        "  print(\"This application for add two numbers\")\n",
        "  first_number = int(input(\"Enter first number: \"))\n",
        "  second_number = int(input(\"Enter second number: \"))\n",
        "  total = int(first_number + second_number)\n",
        "  print(f'The total sum of {first_number}and {second_number} is {total}')\n",
        "\n",
        "\n",
        "if __name__ == \"__main__\":\n",
        "  add()\n",
        "\n",
        "\n",
        "\n"
      ]
    },
    {
      "cell_type": "code",
      "source": [
        "print(\"02_agreement_bot\")\n",
        "\n",
        "def bot():\n",
        "  animal = str(input(\"What their favorite animal is?\"))\n",
        "  print(f'My favorite animal is also {animal}:')\n",
        "\n",
        "if __name__ == \"__main__\":\n",
        "  bot()"
      ],
      "metadata": {
        "id": "nR4b3k8mlsWk"
      },
      "execution_count": null,
      "outputs": []
    },
    {
      "cell_type": "code",
      "source": [
        "print(\"03_fahrenheit_to_celsius\")\n",
        "\n",
        "def tamp():\n",
        "  print(\"This code converting fahrenheit to celsius\")\n",
        "  fahrenheit_degree = float(input(\"Enter fahrenheit degree. \"))\n",
        "  celsius_degree = (fahrenheit_degree - 32) * 5.0/9.0\n",
        "  print(f' Temprature{fahrenheit_degree}F = {celsius_degree} C')\n",
        "\n",
        "if __name__ == \"__main__\":\n",
        "  tamp()"
      ],
      "metadata": {
        "colab": {
          "base_uri": "https://localhost:8080/"
        },
        "id": "YEJmpNdYoacQ",
        "outputId": "de8e0c73-1a5b-4143-fa20-32783af5bb42"
      },
      "execution_count": 13,
      "outputs": [
        {
          "output_type": "stream",
          "name": "stdout",
          "text": [
            "03_fahrenheit_to_celsius\n",
            "This code converting fahrenheit to celsius\n",
            "Enter fahrenheit degree. 43\n",
            " Temprature43.0F = 6.111111111111111 C\n"
          ]
        }
      ]
    },
    {
      "cell_type": "code",
      "source": [],
      "metadata": {
        "id": "EPER8xosE1iS"
      },
      "execution_count": null,
      "outputs": []
    },
    {
      "cell_type": "code",
      "source": [
        "\n",
        "print(\"04_how_old_are_they\")\n",
        "\n",
        "def add_age():\n",
        "  anton: int = 21\n",
        "  beth:int = anton + 6\n",
        "  chen: int = beth + 20\n",
        "  drew: int = chen + anton\n",
        "  ethan: int = chen\n",
        "\n",
        "  print(\"Anton is\" + str(anton))\n",
        "  print(\"Beth is\" + str(beth))\n",
        "  print(\"Chen is\" + str (chen) )\n",
        "  print(\"Drew is\" + str(drew))\n",
        "  print(\"Ethan is\" + str (ethan))\n",
        "\n",
        "if __name__ == \"__main__\":\n",
        "  add_age()"
      ],
      "metadata": {
        "id": "YnSHpbwhrCAe",
        "colab": {
          "base_uri": "https://localhost:8080/"
        },
        "outputId": "3f217a14-e553-42e3-ea97-8bff67245eec"
      },
      "execution_count": null,
      "outputs": [
        {
          "output_type": "stream",
          "name": "stdout",
          "text": [
            "04_how_old_are_they\n",
            "Anton is21\n",
            "Beth is27\n",
            "Chen is47\n",
            "Drew is68\n",
            "Ethan is47\n"
          ]
        }
      ]
    },
    {
      "cell_type": "code",
      "source": [
        "print(\"05_triangle_perimeter\")\n",
        "\n",
        "def triangle():\n",
        "  print(\"This code is about parimeter of triangle.\")\n",
        "  side1:float = float(input(\"Enter your first side no of triangle. \"))\n",
        "  side2:float = float(input(\"Enter your second side no of triangle. \"))\n",
        "  side3:float = float(input(\"Enter your third side no of triangle. \"))\n",
        "  total:float = side1 + side2 + side3\n",
        "  print(f'The parimeter of triangle is {total}')\n",
        "\n",
        "if __name__ == \"__main__\":\n",
        "  triangle()"
      ],
      "metadata": {
        "colab": {
          "base_uri": "https://localhost:8080/"
        },
        "id": "78Hpf-ciFWaX",
        "outputId": "bc922f42-f81a-4b4f-bff9-6299f0175f94"
      },
      "execution_count": null,
      "outputs": [
        {
          "output_type": "stream",
          "name": "stdout",
          "text": [
            "05_triangle_perimeter\n",
            "This code is about parimeter of triangle.\n",
            "Enter your first side no of triangle. 4.9\n",
            "Enter your second side no of triangle. 9\n",
            "Enter your third side no of triangle. 8\n",
            "The parimeter of triangle is 21.9\n"
          ]
        }
      ]
    },
    {
      "cell_type": "code",
      "source": [
        "print(\"06_square_number\")\n",
        "\n",
        "def  square():\n",
        "  print(\"This code is about square of given number\")\n",
        "  num1 : int = int(input(\"Enter any number and i will give u a square value. \"))\n",
        "  print(f'The square of {num1}is {num1 ** 2}')\n",
        "\n",
        "if __name__ == \"__main__\":\n",
        "  square()"
      ],
      "metadata": {
        "id": "5ZgvMdmgLNhR",
        "colab": {
          "base_uri": "https://localhost:8080/"
        },
        "outputId": "83dbeec4-517b-4113-9392-8bc5f6d821e7"
      },
      "execution_count": null,
      "outputs": [
        {
          "output_type": "stream",
          "name": "stdout",
          "text": [
            "06_square_number\n",
            "This code is about square of given number\n",
            "Enter any number and i will give u a square value. 5\n",
            "The square of 5is 25\n"
          ]
        }
      ]
    }
  ]
}